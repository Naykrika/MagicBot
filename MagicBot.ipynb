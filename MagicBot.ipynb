{
  "nbformat": 4,
  "nbformat_minor": 0,
  "metadata": {
    "colab": {
      "provenance": [],
      "authorship_tag": "ABX9TyNXUtWtHYB/NIJrjjskZKjT",
      "include_colab_link": true
    },
    "kernelspec": {
      "name": "python3",
      "display_name": "Python 3"
    },
    "language_info": {
      "name": "python"
    }
  },
  "cells": [
    {
      "cell_type": "markdown",
      "metadata": {
        "id": "view-in-github",
        "colab_type": "text"
      },
      "source": [
        "<a href=\"https://colab.research.google.com/github/Naykrika/MagicBot/blob/main/MagicBot.ipynb\" target=\"_parent\"><img src=\"https://colab.research.google.com/assets/colab-badge.svg\" alt=\"Open In Colab\"/></a>"
      ]
    },
    {
      "cell_type": "code",
      "source": [
        "!pip install -U -q google-generativeai"
      ],
      "metadata": {
        "id": "oGwKos0jmjLq"
      },
      "execution_count": 18,
      "outputs": []
    },
    {
      "cell_type": "code",
      "execution_count": 19,
      "metadata": {
        "id": "cuq4k9AlbRc7"
      },
      "outputs": [],
      "source": [
        "# Importação da biblioteca\n",
        "import google.generativeai as genai\n",
        "from google.colab import userdata\n",
        "api_key = userdata.get('SECRET_KEY')\n",
        "# Configuração do Modelo Gemini\n",
        "genai.configure(api_key=api_key)"
      ]
    },
    {
      "cell_type": "code",
      "source": [
        "# Configuração da geração de texto\n",
        "generation_config = {\n",
        "    \"temperature\": 0.8,  # Ajusta a criatividade das respostas\n",
        "    \"top_p\": 0.95,\n",
        "    \"top_k\": 0,\n",
        "}"
      ],
      "metadata": {
        "id": "Pzw1VxlzbaVY"
      },
      "execution_count": 20,
      "outputs": []
    },
    {
      "cell_type": "code",
      "source": [
        "safety_settings = [\n",
        "  {\n",
        "    \"category\": \"HARM_CATEGORY_HARASSMENT\",\n",
        "    \"threshold\": \"BLOCK_ONLY_HIGH\"\n",
        "  },\n",
        "  {\n",
        "    \"category\": \"HARM_CATEGORY_HATE_SPEECH\",\n",
        "    \"threshold\": \"BLOCK_ONLY_HIGH\"\n",
        "  },\n",
        "  {\n",
        "    \"category\": \"HARM_CATEGORY_SEXUALLY_EXPLICIT\",\n",
        "    \"threshold\": \"BLOCK_ONLY_HIGH\"\n",
        "  },\n",
        "  {\n",
        "    \"category\": \"HARM_CATEGORY_DANGEROUS_CONTENT\",\n",
        "    \"threshold\": \"BLOCK_ONLY_HIGH\"\n",
        "  },\n",
        "]"
      ],
      "metadata": {
        "id": "vNIRKVX1bhjh"
      },
      "execution_count": 21,
      "outputs": []
    },
    {
      "cell_type": "code",
      "source": [
        "system_instruction = \"Você é um chatbot especializado em viagens para Orlando, Florida.\"\n",
        "\n",
        "model = genai.GenerativeModel(\n",
        "    model_name=\"gemini-1.5-pro-latest\",\n",
        "    generation_config=generation_config,\n",
        "    system_instruction=system_instruction,\n",
        "    safety_settings=safety_settings\n",
        ")"
      ],
      "metadata": {
        "id": "k-Ucyj_2bk8x"
      },
      "execution_count": 22,
      "outputs": []
    },
    {
      "cell_type": "code",
      "source": [
        "# Função para recuperar informações de viagem usando o modelo generativo\n",
        "def get_travel_info(prompt):\n",
        "    chat = model.start_chat(history=[])\n",
        "    response = chat.send_message(prompt)\n",
        "    return response.parts[0].text"
      ],
      "metadata": {
        "id": "sl-Ci155gGxV"
      },
      "execution_count": 23,
      "outputs": []
    },
    {
      "cell_type": "code",
      "source": [
        "# Lista de documentos importantes para a viagem\n",
        "documentos_importantes = [\n",
        "    \"Passaporte válido\",\n",
        "    \"Visto americano (se necessário)\",\n",
        "    \"Bilhete de avião\",\n",
        "    \"Reserva de hotel\",\n",
        "    \"Seguro viagem\",\n",
        "    \"Comprovante de vacinação contra COVID-19\",\n",
        "    \"Dinheiro em espécie e cartão de crédito\",\n",
        "    \"Carteira de motorista internacional (opcional)\",\n",
        "    \"Adaptador de tomada (tipo A e B)\",\n",
        "    \"Medicamentos de uso contínuo\",\n",
        "    \"Protetor solar, repelente de mosquitos e outros itens de primeiros socorros\"\n",
        "]"
      ],
      "metadata": {
        "id": "0cwfCx6qgMlI"
      },
      "execution_count": 24,
      "outputs": []
    },
    {
      "cell_type": "code",
      "source": [
        "# Interação com o Usuário\n",
        "print(\"Olá! Sou o MagicBot, seu assistente de viagem para Orlando.\")\n",
        "\n",
        "while True:\n",
        "    # Campo para o usuário digitar sua pergunta\n",
        "    query = input(\"O que você gostaria de saber sobre sua viagem a Orlando? (Digite 'Sair' para encerrar): \")\n",
        "\n",
        "    # Resposta do MagicBot\n",
        "    if query.lower() == \"sair\":\n",
        "        print(\"Até a próxima! Obrigado por usar o MagicBot.\")\n",
        "        break\n",
        "\n",
        "    # Lista de documentos importantes\n",
        "    elif query.lower() == \"documentos\":\n",
        "        print(\"\\nLista de documentos importantes para sua viagem a Orlando:\")\n",
        "        for documento in documentos_importantes:\n",
        "            print(f\"- {documento}\")\n",
        "    else:\n",
        "        # Utilização do modelo generativo para responder perguntas\n",
        "        response = get_travel_info(query)\n",
        "        print('Resposta: ', response, '\\n')\n"
      ],
      "metadata": {
        "colab": {
          "base_uri": "https://localhost:8080/",
          "height": 1000
        },
        "id": "prN0CJzYgUdG",
        "outputId": "27c70ef9-8884-4a34-8f11-5123f1c8dfc3"
      },
      "execution_count": 25,
      "outputs": [
        {
          "output_type": "stream",
          "name": "stdout",
          "text": [
            "Olá! Sou o MagicBot, seu assistente de viagem para Orlando.\n",
            "O que você gostaria de saber sobre sua viagem a Orlando? (Digite 'Sair' para encerrar): Quais documentos necessários?\n",
            "Resposta:  Olá! Para viajar para Orlando, Flórida, você precisará de alguns documentos importantes. A documentação necessária varia de acordo com sua nacionalidade e o tipo de viagem que você está fazendo. \n",
            "\n",
            "**Brasileiros em viagem turística:**\n",
            "\n",
            "* **Passaporte válido:** O passaporte deve ser válido por pelo menos 6 meses após a data de retorno da sua viagem.\n",
            "* **Visto Americano:** Para viagens turísticas, você precisará de um visto de turista B1/B2.\n",
            "* **Autorização Eletrônica de Viagem (ESTA):** Mesmo com o visto americano, brasileiros precisam solicitar a ESTA, uma autorização eletrônica de viagem para entrar nos EUA.\n",
            "* **Passagem aérea de ida e volta:** Você precisará apresentar sua passagem aérea para comprovar que tem intenção de retornar ao Brasil.\n",
            "* **Comprovante de hospedagem:** Reserve seu hotel ou acomodação com antecedência e tenha o comprovante em mãos.\n",
            "* **Comprovante de recursos financeiros:** Você deve conseguir comprovar que possui recursos suficientes para se sustentar durante sua estadia nos Estados Unidos. Isso pode ser feito com extratos bancários, cartões de crédito, etc.\n",
            "\n",
            "**Outras informações importantes:**\n",
            "\n",
            "* **Seguro viagem:** Não é obrigatório, mas é altamente recomendável contratar um seguro viagem para garantir cobertura médica em caso de necessidade.\n",
            "* **Carteira de motorista:** Se você pretende dirigir em Orlando, precisará de uma carteira de motorista válida.\n",
            "* **Certificado Internacional de Vacinação:** Embora não seja obrigatório para entrar nos EUA, o certificado de febre amarela pode ser solicitado em casos específicos.\n",
            "\n",
            "**Recomendações:**\n",
            "\n",
            "* **Verifique a validade do seu passaporte e visto americano com antecedência.**\n",
            "* **Solicite a ESTA o mais rápido possível.** O processo pode levar alguns dias.\n",
            "* **Organize seus documentos em uma pasta ou bolsa para fácil acesso.**\n",
            "* **Faça cópias de todos os seus documentos importantes e guarde-as separadamente.**\n",
            "\n",
            "**Lembre-se:** As exigências podem mudar a qualquer momento. É importante verificar as informações mais atualizadas no site da Embaixada ou Consulado Americano no Brasil.\n",
            "\n",
            "Espero que esta informação seja útil. Se você tiver mais alguma dúvida, não hesite em perguntar! 😊 \n",
            " \n",
            "\n",
            "O que você gostaria de saber sobre sua viagem a Orlando? (Digite 'Sair' para encerrar): Qual é a média de temperatura para o mês de Setembro?\n",
            "Resposta:  ## Temperatura em Orlando em Setembro:\n",
            "\n",
            "Setembro em Orlando ainda é bem quente, marcando a transição do verão para o outono. A temperatura média fica em torno de **28°C (82°F)**, com máximas chegando a **32°C (90°F)** e mínimas em torno de **23°C (73°F)**.\n",
            "\n",
            "**Dicas para lidar com o calor:**\n",
            "\n",
            "* **Hidrate-se:** Beba bastante água ao longo do dia, mesmo que não sinta sede.\n",
            "* **Roupas leves:** Opte por roupas de algodão e tecidos respiráveis, de cores claras.\n",
            "* **Protetor solar:** Use protetor solar com FPS alto e reaplique a cada duas horas.\n",
            "* **Chapéu e óculos de sol:** Proteja-se do sol forte com chapéu e óculos de sol.\n",
            "* **Planeje suas atividades:** Evite atividades ao ar livre durante as horas mais quentes do dia.\n",
            "\n",
            "**Além do calor, setembro também é conhecido por:**\n",
            "\n",
            "* **Chuvas frequentes:** Esteja preparado para pancadas de chuva rápidas no final da tarde.\n",
            "* **Umidade:** A umidade pode ser alta, fazendo com que a sensação térmica seja ainda mais quente.\n",
            "* **Furacões:** Setembro está na temporada de furacões, então é importante ficar atento às previsões do tempo.\n",
            "\n",
            "**Apesar do calor e da possibilidade de chuva, setembro ainda é uma ótima época para visitar Orlando, pois:**\n",
            "\n",
            "* **Menos multidões:** As escolas já voltaram às aulas, então os parques e atrações tendem a estar menos lotados.\n",
            "* **Preços mais baixos:** Você pode encontrar melhores ofertas em hotéis e passagens aéreas.\n",
            "* **Eventos especiais:** Setembro traz alguns eventos especiais para Orlando, como o Epcot International Food & Wine Festival.\n",
            "\n",
            "**Espero que essas informações sejam úteis! Se tiver mais alguma pergunta, é só me dizer.** \n",
            " \n",
            "\n",
            "O que você gostaria de saber sobre sua viagem a Orlando? (Digite 'Sair' para encerrar): Sair\n",
            "Até a próxima! Obrigado por usar o MagicBot.\n"
          ]
        }
      ]
    }
  ]
}